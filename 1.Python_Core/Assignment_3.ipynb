{
 "cells": [
  {
   "cell_type": "markdown",
   "id": "25cbbad5",
   "metadata": {},
   "source": [
    "## Question 1"
   ]
  },
  {
   "cell_type": "markdown",
   "id": "3247616f",
   "metadata": {},
   "source": [
    "#### 1.1 Write a Python Program to implement your own myreduce() function which works exactly like Python's built-in function reduce()"
   ]
  },
  {
   "cell_type": "code",
   "execution_count": 7,
   "id": "d9e78142",
   "metadata": {},
   "outputs": [
    {
     "name": "stdout",
     "output_type": "stream",
     "text": [
      "24\n",
      "10\n"
     ]
    }
   ],
   "source": [
    "# The reduce() function accepts a function, sequence and returns a single value\n",
    "def perform_multi(num1,num2):\n",
    "    return num1*num2\n",
    "\n",
    "def perform_add(num1,num2):\n",
    "    return num1+num2\n",
    "\n",
    "def myreduce(function,sequence):\n",
    "    value=sequence[0]\n",
    "    for i in sequence[1:]:\n",
    "        value=function(value,i)\n",
    "    return value\n",
    "    \n",
    "result_1=myreduce(perform_multi,[1,2,3,4])\n",
    "print(result_1)\n",
    "result_2=myreduce(perform_add,[1,2,3,4])\n",
    "print(result_2)"
   ]
  },
  {
   "cell_type": "markdown",
   "id": "9e677f7f",
   "metadata": {},
   "source": [
    "#### 1.2 Write a Python program to implement your own myfilter() function which works exactly like Python's built-in function filter()"
   ]
  },
  {
   "cell_type": "code",
   "execution_count": 15,
   "id": "ce5164b5",
   "metadata": {},
   "outputs": [
    {
     "name": "stdout",
     "output_type": "stream",
     "text": [
      "10 6 50 \n",
      "\n",
      "1 3 45 "
     ]
    }
   ],
   "source": [
    "# The filter() function takes a function and a sequence as arguments and returns an iterable, \n",
    "# only yielding the items in sequence for which function returns True.\n",
    "\n",
    "def is_even(x):\n",
    "    if x % 2 == 0:\n",
    "        return True\n",
    "    else:\n",
    "        return False\n",
    "    \n",
    "def is_odd(x):\n",
    "    if x % 2 == 0:\n",
    "        return False\n",
    "    else:\n",
    "        return True\n",
    "\n",
    "    \n",
    "def myfilter(function,sequence):\n",
    "    output=[]\n",
    "    for i in sequence:\n",
    "        if function(i)==True:\n",
    "            output.append(i)\n",
    "    return output\n",
    "    \n",
    "    \n",
    "result_1=filter(is_even, [1, 3, 10, 45, 6, 50])\n",
    "for i in result_1:\n",
    "    print(i,end=\" \")\n",
    "print(\"\\n\")\n",
    "result_2=filter(is_odd, [1, 3, 10, 45, 6, 50])\n",
    "for i in result_2:\n",
    "    print(i,end=\" \")"
   ]
  },
  {
   "cell_type": "markdown",
   "id": "8aff7241",
   "metadata": {},
   "source": [
    "## Question 2\n"
   ]
  },
  {
   "cell_type": "markdown",
   "id": "461699d1",
   "metadata": {},
   "source": [
    "#### Implement List comprehensions to produce the following lists. \n",
    "Write List comprehensions to produce the following Lists:\n",
    "\n",
    "['x', 'xx', 'xxx', 'xxxx', 'y', 'yy', 'yyy', 'yyyy', 'z', 'zz', 'zzz', 'zzzz'] \n",
    "\n",
    "['x', 'y', 'z', 'xx', 'yy', 'zz', 'xxx', 'yyy', 'zzz', 'xxxx', 'yyyy', 'zzzz'] \n",
    "\n",
    "[[2], [3], [4], [3], [4], [5], [4], [5], [6]]\n",
    "\n",
    "[[2, 3, 4, 5], [3, 4, 5, 6], [4, 5, 6, 7], [5, 6, 7, 8]]\n",
    "\n",
    "[(1, 1), (2, 1), (3, 1), (1, 2), (2, 2), (3, 2), (1, 3), (2, 3), (3, 3)"
   ]
  },
  {
   "cell_type": "code",
   "execution_count": 82,
   "id": "de260e33",
   "metadata": {},
   "outputs": [
    {
     "name": "stdout",
     "output_type": "stream",
     "text": [
      "['x', 'xx', 'xxx', 'xxxx', 'y', 'yy', 'yyy', 'yyyy', 'z', 'zz', 'zzz', 'zzzz']\n",
      "\n",
      "['x', 'y', 'z', 'xx', 'yy', 'zz', 'xxx', 'yyy', 'zzz', 'xxxx', 'yyyy', 'zzzz']\n",
      "\n",
      "[[2], [3], [4], [3], [4], [5], [4], [5], [6]]\n",
      "\n",
      "[[2, 3, 4, 5], [3, 4, 5, 6], [4, 5, 6, 7], [5, 6, 7, 8]]\n",
      "\n",
      "[(1, 1), (2, 1), (3, 1), (1, 2), (2, 2), (3, 2), (1, 3), (2, 3), (3, 3)]\n"
     ]
    }
   ],
   "source": [
    "var_1=['x','y','z']\n",
    "list_1=[i*j for i in var_1 for j in range(1,5)]\n",
    "print(list_1,end=\"\\n\\n\")\n",
    "\n",
    "list_2=[j*i for i in range(1,5) for j in var_1]\n",
    "print(list_2,end=\"\\n\\n\")\n",
    "\n",
    "var_2=[2,3,4,5,6,7,8]\n",
    "l=[]\n",
    "list_3=[ [j] for i in range(0,int(len(var_2)-4)) for j in var_2[i:i+3] ]\n",
    "print(list_3,end=\"\\n\\n\")\n",
    "\n",
    "list_4=[var_2[i:i+4] for i in range(0,int(len(var_2)-3))]\n",
    "print(list_4,end=\"\\n\\n\")\n",
    "\n",
    "list_5=[tuple([j,i]) for i in range(1,4) for j in  range(1,4)]\n",
    "print(list_5)"
   ]
  },
  {
   "cell_type": "code",
   "execution_count": null,
   "id": "b71e3eab",
   "metadata": {},
   "outputs": [],
   "source": []
  }
 ],
 "metadata": {
  "kernelspec": {
   "display_name": "Python 3 (ipykernel)",
   "language": "python",
   "name": "python3"
  },
  "language_info": {
   "codemirror_mode": {
    "name": "ipython",
    "version": 3
   },
   "file_extension": ".py",
   "mimetype": "text/x-python",
   "name": "python",
   "nbconvert_exporter": "python",
   "pygments_lexer": "ipython3",
   "version": "3.8.5"
  }
 },
 "nbformat": 4,
 "nbformat_minor": 5
}
