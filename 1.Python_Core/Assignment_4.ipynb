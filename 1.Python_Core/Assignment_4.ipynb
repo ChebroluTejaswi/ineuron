{
 "cells": [
  {
   "cell_type": "markdown",
   "id": "e809dc2c",
   "metadata": {},
   "source": [
    "## Question 1"
   ]
  },
  {
   "cell_type": "markdown",
   "id": "42040f50",
   "metadata": {},
   "source": [
    "#### 1.1 Write a Python Program(with class concepts) to find the area of the triangle using the below formula.\n",
    "area = (sx(s-a)x(s-b)x(s-c)) ** 0.5\n",
    "Function to take the length of the sides of triangle from user should be defined in the parent \n",
    "class and function to calculate the area should be defined in subclass.\n"
   ]
  },
  {
   "cell_type": "code",
   "execution_count": 19,
   "id": "c3b710d3",
   "metadata": {},
   "outputs": [],
   "source": [
    "class triangle:\n",
    "    def get_length(self,a,b,c):\n",
    "        self.a=a\n",
    "        self.b=b\n",
    "        self.c=c\n",
    "        self.s=((a+b+c)/2)\n",
    "class area(triangle):\n",
    "    def __init__(self,*args):\n",
    "        super(triangle,self).__init__(*args)\n",
    "    def cal_area(self):\n",
    "        area = (self.s*(self.s-self.a)*(self.s-self.b)*(self.s-self.c))** 0.5\n",
    "        return area"
   ]
  },
  {
   "cell_type": "code",
   "execution_count": 22,
   "id": "575e2709",
   "metadata": {},
   "outputs": [
    {
     "name": "stdout",
     "output_type": "stream",
     "text": [
      "Area of the triangle: 6.0\n"
     ]
    }
   ],
   "source": [
    "t=area()\n",
    "t.get_length(3,4,5)\n",
    "print(\"Area of the triangle: \"+str(t.cal_area()))"
   ]
  },
  {
   "cell_type": "markdown",
   "id": "200d98ac",
   "metadata": {},
   "source": [
    "#### 1.2 Write a function filter_long_words() that takes a list of words and an integer n and returns the list of words that are longer than n.\n"
   ]
  },
  {
   "cell_type": "code",
   "execution_count": 28,
   "id": "23956ba5",
   "metadata": {},
   "outputs": [
    {
     "name": "stdout",
     "output_type": "stream",
     "text": [
      "List of words longer than 6 : ['ineuron', 'python', 'programming', 'darkmode']\n"
     ]
    }
   ],
   "source": [
    "def filter_long_words(l,n):\n",
    "    res=[]\n",
    "    for i in l:\n",
    "        if len(i)>=n:\n",
    "          res.append(i)  \n",
    "    return res\n",
    "\n",
    "wordslist=[\"ineuron\",\"python\",\"programming\",\"darkmode\",\"java\",\"sql\",\"coder\"]\n",
    "n=6\n",
    "\n",
    "result=filter_long_words(wordslist,n)\n",
    "print(\"List of words longer than \"+str(n)+\" : \"+str(result))"
   ]
  },
  {
   "cell_type": "markdown",
   "id": "40af06f9",
   "metadata": {},
   "source": [
    "## Question 2\n"
   ]
  },
  {
   "cell_type": "markdown",
   "id": "eef72111",
   "metadata": {},
   "source": [
    "#### 2.1 Write a Python program using function concept that maps list of words into a list of integers representing the lengths of the corresponding words.\n",
    "Hint: If a list [ ab,cde,erty] is passed on to the python function output should come as [2,3,4]\n",
    "Here 2,3 and 4 are the lengths of the words in the list."
   ]
  },
  {
   "cell_type": "code",
   "execution_count": 29,
   "id": "8aec491f",
   "metadata": {},
   "outputs": [
    {
     "name": "stdout",
     "output_type": "stream",
     "text": [
      "[2, 3, 4]\n"
     ]
    }
   ],
   "source": [
    "def word_to_int(l):\n",
    "    res=[]\n",
    "    for i in l:\n",
    "        res.append(len(i))\n",
    "    return res\n",
    "\n",
    "word_list=[\"ab\",\"cde\",\"erty\"]\n",
    "int_list=word_to_int(word_list)\n",
    "print(int_list)"
   ]
  },
  {
   "cell_type": "markdown",
   "id": "af50a040",
   "metadata": {},
   "source": [
    "#### 2.2 Write a Python function which takes a character (i.e. a string of length 1) and returns True if it is a vowel, False otherwise."
   ]
  },
  {
   "cell_type": "code",
   "execution_count": 32,
   "id": "000460f1",
   "metadata": {},
   "outputs": [
    {
     "ename": "SyntaxError",
     "evalue": "invalid syntax (Temp/ipykernel_22340/287813309.py, line 2)",
     "output_type": "error",
     "traceback": [
      "\u001b[1;36m  File \u001b[1;32m\"C:\\Users\\Tejaswi\\AppData\\Local\\Temp/ipykernel_22340/287813309.py\"\u001b[1;36m, line \u001b[1;32m2\u001b[0m\n\u001b[1;33m    if s==='a'||s=='e'||s==='i'||s==='o'||s==='u':\u001b[0m\n\u001b[1;37m          ^\u001b[0m\n\u001b[1;31mSyntaxError\u001b[0m\u001b[1;31m:\u001b[0m invalid syntax\n"
     ]
    }
   ],
   "source": [
    "def is_vowel(s):\n",
    "    if s==='a'||s=='e'||s==='i'||s==='o'||s==='u':\n",
    "        return True\n",
    "    else\n",
    "        return False\n",
    "    \n",
    "print(is_vowel('a'))\n",
    "print(is_vowel())"
   ]
  },
  {
   "cell_type": "code",
   "execution_count": null,
   "id": "d4128b34",
   "metadata": {},
   "outputs": [],
   "source": []
  }
 ],
 "metadata": {
  "kernelspec": {
   "display_name": "Python 3 (ipykernel)",
   "language": "python",
   "name": "python3"
  },
  "language_info": {
   "codemirror_mode": {
    "name": "ipython",
    "version": 3
   },
   "file_extension": ".py",
   "mimetype": "text/x-python",
   "name": "python",
   "nbconvert_exporter": "python",
   "pygments_lexer": "ipython3",
   "version": "3.8.5"
  }
 },
 "nbformat": 4,
 "nbformat_minor": 5
}
